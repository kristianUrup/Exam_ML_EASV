{
 "cells": [
  {
   "cell_type": "code",
   "execution_count": 1,
   "outputs": [
    {
     "ename": "ModuleNotFoundError",
     "evalue": "No module named 'keras'",
     "output_type": "error",
     "traceback": [
      "\u001B[1;31m---------------------------------------------------------------------------\u001B[0m",
      "\u001B[1;31mModuleNotFoundError\u001B[0m                       Traceback (most recent call last)",
      "\u001B[1;32m~\\AppData\\Local\\Temp/ipykernel_24288/1396935566.py\u001B[0m in \u001B[0;36m<module>\u001B[1;34m\u001B[0m\n\u001B[1;32m----> 1\u001B[1;33m \u001B[1;32mimport\u001B[0m \u001B[0mkeras\u001B[0m\u001B[1;33m.\u001B[0m\u001B[0mmodels\u001B[0m\u001B[1;33m\u001B[0m\u001B[1;33m\u001B[0m\u001B[0m\n\u001B[0m\u001B[0;32m      2\u001B[0m \u001B[1;32mimport\u001B[0m \u001B[0mtensorflow\u001B[0m \u001B[1;32mas\u001B[0m \u001B[0mtf\u001B[0m\u001B[1;33m\u001B[0m\u001B[1;33m\u001B[0m\u001B[0m\n\u001B[0;32m      3\u001B[0m \u001B[1;32mfrom\u001B[0m \u001B[0msklearn\u001B[0m\u001B[1;33m.\u001B[0m\u001B[0mmodel_selection\u001B[0m \u001B[1;32mimport\u001B[0m \u001B[0mtrain_test_split\u001B[0m\u001B[1;33m\u001B[0m\u001B[1;33m\u001B[0m\u001B[0m\n\u001B[0;32m      4\u001B[0m \u001B[1;32mimport\u001B[0m \u001B[0mpathlib\u001B[0m\u001B[1;33m\u001B[0m\u001B[1;33m\u001B[0m\u001B[0m\n\u001B[0;32m      5\u001B[0m \u001B[1;33m\u001B[0m\u001B[0m\n",
      "\u001B[1;31mModuleNotFoundError\u001B[0m: No module named 'keras'"
     ]
    }
   ],
   "source": [
    "import keras.models\n",
    "import tensorflow as tf\n",
    "from sklearn.model_selection import train_test_split\n",
    "import pathlib\n",
    "\n",
    "# Defining the image size\n",
    "image_height = 28\n",
    "image_width = image_height\n",
    "\n",
    "# Loading for training_set\n",
    "data_dir = \"../data/\"\n",
    "\n",
    "x_train = tf.keras.utils.image_dataset_from_directory(\n",
    "    data_dir + \"seg_train/seg_train\",\n",
    "    seed=123,\n",
    "    validation_split=0.2,\n",
    "    subset=\"training\",\n",
    "    image_size=(image_width, image_width),\n",
    "    batch_size=28)\n",
    "\n",
    "x_val =tf.keras.utils.image_dataset_from_directory(\n",
    "    data_dir + \"seg_train/seg_train\",\n",
    "    seed=123,\n",
    "    validation_split=0.2,\n",
    "    subset=\"validation\",\n",
    "    image_size=(image_width, image_width),\n",
    "    batch_size=46)\n",
    "\n",
    "\n",
    "y_train =tf.keras.utils.image_dataset_from_directory(\n",
    "    data_dir + \"seg_train/seg_train\",\n",
    "    seed=123,\n",
    "    validation_split=0.2,\n",
    "    subset=\"training\",\n",
    "    image_size=(image_width, image_width),\n",
    "    batch_size=28)\n",
    "\n",
    "y_val =tf.keras.utils.image_dataset_from_directory(\n",
    "    data_dir + \"seg_train/seg_train\",\n",
    "    seed=123,\n",
    "    validation_split=0.2,\n",
    "    subset=\"validation\",\n",
    "    image_size=(image_width, image_width),\n",
    "    batch_size=46)\n",
    "\n",
    "\n",
    "\n",
    "# Loading for test_set\n",
    "test_ds = tf.keras.utils.image_dataset_from_directory(\n",
    "    data_dir + \"seg_test/seg_test\",\n",
    "    seed=123,\n",
    "    image_size=(image_width, image_width),\n",
    "    batch_size=100)\n",
    "\n"
   ],
   "metadata": {
    "collapsed": false,
    "pycharm": {
     "name": "#%%\n"
    }
   }
  },
  {
   "cell_type": "code",
   "execution_count": null,
   "outputs": [],
   "source": [
    "import matplotlib.pyplot as plt\n",
    "\n",
    "# Showing the images with classnames\n",
    "class_names = x_train.class_names\n",
    "\n",
    "plt.figure(figsize=(10, 10))\n",
    "for images, labels in x_train.take(1):\n",
    "    for i in range(9):\n",
    "        ax = plt.subplot(3, 3, i + 1)\n",
    "        plt.imshow(images[i].numpy().astype(\"uint8\"))\n",
    "        plt.title(class_names[labels[i]])\n",
    "        plt.axis(\"off\")\n"
   ],
   "metadata": {
    "collapsed": false,
    "pycharm": {
     "name": "#%%\n"
    }
   }
  },
  {
   "cell_type": "code",
   "execution_count": null,
   "outputs": [],
   "source": [
    "# Making hidden layers for model.\n",
    "model = keras.models.Sequential()\n",
    "\n",
    "model.add(keras.layers.layers.Reshape())\n",
    "model.add(keras.Input(shape=(28,28)))\n",
    "\n",
    "model.add(keras.layers.Dense(300, activation=\"relu\"))\n",
    "\n",
    "model.add(keras.layers.Dense(10, activation=\"softmax\"))"
   ],
   "metadata": {
    "collapsed": false,
    "pycharm": {
     "name": "#%%\n"
    }
   }
  },
  {
   "cell_type": "code",
   "execution_count": null,
   "outputs": [],
   "source": [
    "# Checking data for the model\n",
    "model.summary()\n",
    "\n",
    "print(\"\\n The name of the layers\")\n",
    "for i in range(len(model.layers)):\n",
    "    print(\"Name\")\n",
    "    hidden = model.layers[i]\n",
    "    print(hidden.name)\n",
    "    if (i > 0):\n",
    "        weights, biases = hidden.get_weights()\n",
    "        print(\"The shape of the weight\")\n",
    "        print(weights.shape)\n",
    "        print(\"The shape of the biases\")\n",
    "        print(biases.shape)"
   ],
   "metadata": {
    "collapsed": false,
    "pycharm": {
     "name": "#%%\n"
    }
   }
  },
  {
   "cell_type": "code",
   "execution_count": null,
   "outputs": [],
   "source": [
    "# Compile the model\n",
    "model.compile(loss=\"sparse_categorical_crossentropy\",\n",
    "              optimizer=\"sgd\",\n",
    "              metrics=[\"accuracy\"])\n",
    "\n",
    "# And train the model\n",
    "history = model.fit(x_train, epochs=100, batch_size=28, validation_data=x_val)\n",
    "\n",
    "\n",
    "print(history.params)\n"
   ],
   "metadata": {
    "collapsed": false,
    "pycharm": {
     "name": "#%%\n"
    }
   }
  }
 ],
 "metadata": {
  "kernelspec": {
   "display_name": "Python 3",
   "language": "python",
   "name": "python3"
  },
  "language_info": {
   "codemirror_mode": {
    "name": "ipython",
    "version": 2
   },
   "file_extension": ".py",
   "mimetype": "text/x-python",
   "name": "python",
   "nbconvert_exporter": "python",
   "pygments_lexer": "ipython2",
   "version": "2.7.6"
  }
 },
 "nbformat": 4,
 "nbformat_minor": 0
}